{
  "nbformat": 4,
  "nbformat_minor": 0,
  "metadata": {
    "colab": {
      "provenance": [],
      "authorship_tag": "ABX9TyNUNwQ6txngJRsIPs0h+sfl",
      "include_colab_link": true
    },
    "kernelspec": {
      "name": "python3",
      "display_name": "Python 3"
    },
    "language_info": {
      "name": "python"
    }
  },
  "cells": [
    {
      "cell_type": "markdown",
      "metadata": {
        "id": "view-in-github",
        "colab_type": "text"
      },
      "source": [
        "<a href=\"https://colab.research.google.com/github/nitink23/MY-ML/blob/master/adidas_dataset.ipynb\" target=\"_parent\"><img src=\"https://colab.research.google.com/assets/colab-badge.svg\" alt=\"Open In Colab\"/></a>"
      ]
    },
    {
      "cell_type": "code",
      "execution_count": 10,
      "metadata": {
        "id": "iboYQI9YmL7q"
      },
      "outputs": [],
      "source": [
        "import pandas as pd \n",
        "import numpy as np \n",
        "import matplotlib.pyplot as plt\n",
        "import seaborn as sns\n",
        "sns.set_style('darkgrid')"
      ]
    },
    {
      "cell_type": "code",
      "source": [
        "df = pd.read_csv('/adidas_usa.csv')"
      ],
      "metadata": {
        "id": "tjSukKnlmyhz"
      },
      "execution_count": 11,
      "outputs": []
    },
    {
      "cell_type": "code",
      "source": [
        "df.head()"
      ],
      "metadata": {
        "colab": {
          "base_uri": "https://localhost:8080/",
          "height": 612
        },
        "id": "xwZexInNm2Vk",
        "outputId": "48d4755d-7c4a-4150-ba5b-32c9cc9b49dd"
      },
      "execution_count": 12,
      "outputs": [
        {
          "output_type": "execute_result",
          "data": {
            "text/plain": [
              "   index                                                url  \\\n",
              "0      0  https://www.adidas.com/us/beach-shorts/FJ5089....   \n",
              "1      1  https://www.adidas.com/us/five-ten-kestrel-lac...   \n",
              "2      2  https://www.adidas.com/us/mexico-away-jersey/G...   \n",
              "3      3  https://www.adidas.com/us/five-ten-hiangle-pro...   \n",
              "4      4  https://www.adidas.com/us/mesh-broken-stripe-p...   \n",
              "\n",
              "                                              name     sku  selling_price  \\\n",
              "0                                     Beach Shorts  FJ5089             40   \n",
              "1        Five Ten Kestrel Lace Mountain Bike Shoes  BC0770            150   \n",
              "2                               Mexico Away Jersey  GC7946             70   \n",
              "3  Five Ten Hiangle Pro Competition Climbing Shoes  FV4744            160   \n",
              "4                    Mesh Broken-Stripe Polo Shirt  GM0239             65   \n",
              "\n",
              "  original_price currency availability  color  category  ...  \\\n",
              "0            NaN      USD      InStock  Black  Clothing  ...   \n",
              "1            NaN      USD      InStock   Grey     Shoes  ...   \n",
              "2            NaN      USD      InStock  White  Clothing  ...   \n",
              "3            NaN      USD      InStock  Black     Shoes  ...   \n",
              "4            NaN      USD      InStock   Blue  Clothing  ...   \n",
              "\n",
              "           source_website     breadcrumbs  \\\n",
              "0  https://www.adidas.com  Women/Clothing   \n",
              "1  https://www.adidas.com     Women/Shoes   \n",
              "2  https://www.adidas.com   Kids/Clothing   \n",
              "3  https://www.adidas.com  Five Ten/Shoes   \n",
              "4  https://www.adidas.com    Men/Clothing   \n",
              "\n",
              "                                         description   brand  \\\n",
              "0  Splashing in the surf. Making memories with yo...  adidas   \n",
              "1  Lace up and get after it. The Five Ten Kestrel...  adidas   \n",
              "2  Clean and crisp, this adidas Mexico Away Jerse...  adidas   \n",
              "3  The Hiangle Pro takes on the classic shape of ...  adidas   \n",
              "4  Step up to the tee relaxed. This adidas golf p...  adidas   \n",
              "\n",
              "                                              images country language  \\\n",
              "0  https://assets.adidas.com/images/w_600,f_auto,...     USA       en   \n",
              "1  https://assets.adidas.com/images/w_600,f_auto,...     USA       en   \n",
              "2  https://assets.adidas.com/images/w_600,f_auto,...     USA       en   \n",
              "3  https://assets.adidas.com/images/w_600,f_auto,...     USA       en   \n",
              "4  https://assets.adidas.com/images/w_600,f_auto,...     USA       en   \n",
              "\n",
              "  average_rating  reviews_count                  crawled_at  \n",
              "0            4.5             35  2021-10-23 17:50:17.331255  \n",
              "1            4.8              4  2021-10-23 17:50:17.423830  \n",
              "2            4.9             42  2021-10-23 17:50:17.530834  \n",
              "3            3.7              7  2021-10-23 17:50:17.615054  \n",
              "4            4.7             11  2021-10-23 17:50:17.702680  \n",
              "\n",
              "[5 rows x 21 columns]"
            ],
            "text/html": [
              "\n",
              "  <div id=\"df-41e2a321-c984-450a-9b67-d5475b663625\">\n",
              "    <div class=\"colab-df-container\">\n",
              "      <div>\n",
              "<style scoped>\n",
              "    .dataframe tbody tr th:only-of-type {\n",
              "        vertical-align: middle;\n",
              "    }\n",
              "\n",
              "    .dataframe tbody tr th {\n",
              "        vertical-align: top;\n",
              "    }\n",
              "\n",
              "    .dataframe thead th {\n",
              "        text-align: right;\n",
              "    }\n",
              "</style>\n",
              "<table border=\"1\" class=\"dataframe\">\n",
              "  <thead>\n",
              "    <tr style=\"text-align: right;\">\n",
              "      <th></th>\n",
              "      <th>index</th>\n",
              "      <th>url</th>\n",
              "      <th>name</th>\n",
              "      <th>sku</th>\n",
              "      <th>selling_price</th>\n",
              "      <th>original_price</th>\n",
              "      <th>currency</th>\n",
              "      <th>availability</th>\n",
              "      <th>color</th>\n",
              "      <th>category</th>\n",
              "      <th>...</th>\n",
              "      <th>source_website</th>\n",
              "      <th>breadcrumbs</th>\n",
              "      <th>description</th>\n",
              "      <th>brand</th>\n",
              "      <th>images</th>\n",
              "      <th>country</th>\n",
              "      <th>language</th>\n",
              "      <th>average_rating</th>\n",
              "      <th>reviews_count</th>\n",
              "      <th>crawled_at</th>\n",
              "    </tr>\n",
              "  </thead>\n",
              "  <tbody>\n",
              "    <tr>\n",
              "      <th>0</th>\n",
              "      <td>0</td>\n",
              "      <td>https://www.adidas.com/us/beach-shorts/FJ5089....</td>\n",
              "      <td>Beach Shorts</td>\n",
              "      <td>FJ5089</td>\n",
              "      <td>40</td>\n",
              "      <td>NaN</td>\n",
              "      <td>USD</td>\n",
              "      <td>InStock</td>\n",
              "      <td>Black</td>\n",
              "      <td>Clothing</td>\n",
              "      <td>...</td>\n",
              "      <td>https://www.adidas.com</td>\n",
              "      <td>Women/Clothing</td>\n",
              "      <td>Splashing in the surf. Making memories with yo...</td>\n",
              "      <td>adidas</td>\n",
              "      <td>https://assets.adidas.com/images/w_600,f_auto,...</td>\n",
              "      <td>USA</td>\n",
              "      <td>en</td>\n",
              "      <td>4.5</td>\n",
              "      <td>35</td>\n",
              "      <td>2021-10-23 17:50:17.331255</td>\n",
              "    </tr>\n",
              "    <tr>\n",
              "      <th>1</th>\n",
              "      <td>1</td>\n",
              "      <td>https://www.adidas.com/us/five-ten-kestrel-lac...</td>\n",
              "      <td>Five Ten Kestrel Lace Mountain Bike Shoes</td>\n",
              "      <td>BC0770</td>\n",
              "      <td>150</td>\n",
              "      <td>NaN</td>\n",
              "      <td>USD</td>\n",
              "      <td>InStock</td>\n",
              "      <td>Grey</td>\n",
              "      <td>Shoes</td>\n",
              "      <td>...</td>\n",
              "      <td>https://www.adidas.com</td>\n",
              "      <td>Women/Shoes</td>\n",
              "      <td>Lace up and get after it. The Five Ten Kestrel...</td>\n",
              "      <td>adidas</td>\n",
              "      <td>https://assets.adidas.com/images/w_600,f_auto,...</td>\n",
              "      <td>USA</td>\n",
              "      <td>en</td>\n",
              "      <td>4.8</td>\n",
              "      <td>4</td>\n",
              "      <td>2021-10-23 17:50:17.423830</td>\n",
              "    </tr>\n",
              "    <tr>\n",
              "      <th>2</th>\n",
              "      <td>2</td>\n",
              "      <td>https://www.adidas.com/us/mexico-away-jersey/G...</td>\n",
              "      <td>Mexico Away Jersey</td>\n",
              "      <td>GC7946</td>\n",
              "      <td>70</td>\n",
              "      <td>NaN</td>\n",
              "      <td>USD</td>\n",
              "      <td>InStock</td>\n",
              "      <td>White</td>\n",
              "      <td>Clothing</td>\n",
              "      <td>...</td>\n",
              "      <td>https://www.adidas.com</td>\n",
              "      <td>Kids/Clothing</td>\n",
              "      <td>Clean and crisp, this adidas Mexico Away Jerse...</td>\n",
              "      <td>adidas</td>\n",
              "      <td>https://assets.adidas.com/images/w_600,f_auto,...</td>\n",
              "      <td>USA</td>\n",
              "      <td>en</td>\n",
              "      <td>4.9</td>\n",
              "      <td>42</td>\n",
              "      <td>2021-10-23 17:50:17.530834</td>\n",
              "    </tr>\n",
              "    <tr>\n",
              "      <th>3</th>\n",
              "      <td>3</td>\n",
              "      <td>https://www.adidas.com/us/five-ten-hiangle-pro...</td>\n",
              "      <td>Five Ten Hiangle Pro Competition Climbing Shoes</td>\n",
              "      <td>FV4744</td>\n",
              "      <td>160</td>\n",
              "      <td>NaN</td>\n",
              "      <td>USD</td>\n",
              "      <td>InStock</td>\n",
              "      <td>Black</td>\n",
              "      <td>Shoes</td>\n",
              "      <td>...</td>\n",
              "      <td>https://www.adidas.com</td>\n",
              "      <td>Five Ten/Shoes</td>\n",
              "      <td>The Hiangle Pro takes on the classic shape of ...</td>\n",
              "      <td>adidas</td>\n",
              "      <td>https://assets.adidas.com/images/w_600,f_auto,...</td>\n",
              "      <td>USA</td>\n",
              "      <td>en</td>\n",
              "      <td>3.7</td>\n",
              "      <td>7</td>\n",
              "      <td>2021-10-23 17:50:17.615054</td>\n",
              "    </tr>\n",
              "    <tr>\n",
              "      <th>4</th>\n",
              "      <td>4</td>\n",
              "      <td>https://www.adidas.com/us/mesh-broken-stripe-p...</td>\n",
              "      <td>Mesh Broken-Stripe Polo Shirt</td>\n",
              "      <td>GM0239</td>\n",
              "      <td>65</td>\n",
              "      <td>NaN</td>\n",
              "      <td>USD</td>\n",
              "      <td>InStock</td>\n",
              "      <td>Blue</td>\n",
              "      <td>Clothing</td>\n",
              "      <td>...</td>\n",
              "      <td>https://www.adidas.com</td>\n",
              "      <td>Men/Clothing</td>\n",
              "      <td>Step up to the tee relaxed. This adidas golf p...</td>\n",
              "      <td>adidas</td>\n",
              "      <td>https://assets.adidas.com/images/w_600,f_auto,...</td>\n",
              "      <td>USA</td>\n",
              "      <td>en</td>\n",
              "      <td>4.7</td>\n",
              "      <td>11</td>\n",
              "      <td>2021-10-23 17:50:17.702680</td>\n",
              "    </tr>\n",
              "  </tbody>\n",
              "</table>\n",
              "<p>5 rows × 21 columns</p>\n",
              "</div>\n",
              "      <button class=\"colab-df-convert\" onclick=\"convertToInteractive('df-41e2a321-c984-450a-9b67-d5475b663625')\"\n",
              "              title=\"Convert this dataframe to an interactive table.\"\n",
              "              style=\"display:none;\">\n",
              "        \n",
              "  <svg xmlns=\"http://www.w3.org/2000/svg\" height=\"24px\"viewBox=\"0 0 24 24\"\n",
              "       width=\"24px\">\n",
              "    <path d=\"M0 0h24v24H0V0z\" fill=\"none\"/>\n",
              "    <path d=\"M18.56 5.44l.94 2.06.94-2.06 2.06-.94-2.06-.94-.94-2.06-.94 2.06-2.06.94zm-11 1L8.5 8.5l.94-2.06 2.06-.94-2.06-.94L8.5 2.5l-.94 2.06-2.06.94zm10 10l.94 2.06.94-2.06 2.06-.94-2.06-.94-.94-2.06-.94 2.06-2.06.94z\"/><path d=\"M17.41 7.96l-1.37-1.37c-.4-.4-.92-.59-1.43-.59-.52 0-1.04.2-1.43.59L10.3 9.45l-7.72 7.72c-.78.78-.78 2.05 0 2.83L4 21.41c.39.39.9.59 1.41.59.51 0 1.02-.2 1.41-.59l7.78-7.78 2.81-2.81c.8-.78.8-2.07 0-2.86zM5.41 20L4 18.59l7.72-7.72 1.47 1.35L5.41 20z\"/>\n",
              "  </svg>\n",
              "      </button>\n",
              "      \n",
              "  <style>\n",
              "    .colab-df-container {\n",
              "      display:flex;\n",
              "      flex-wrap:wrap;\n",
              "      gap: 12px;\n",
              "    }\n",
              "\n",
              "    .colab-df-convert {\n",
              "      background-color: #E8F0FE;\n",
              "      border: none;\n",
              "      border-radius: 50%;\n",
              "      cursor: pointer;\n",
              "      display: none;\n",
              "      fill: #1967D2;\n",
              "      height: 32px;\n",
              "      padding: 0 0 0 0;\n",
              "      width: 32px;\n",
              "    }\n",
              "\n",
              "    .colab-df-convert:hover {\n",
              "      background-color: #E2EBFA;\n",
              "      box-shadow: 0px 1px 2px rgba(60, 64, 67, 0.3), 0px 1px 3px 1px rgba(60, 64, 67, 0.15);\n",
              "      fill: #174EA6;\n",
              "    }\n",
              "\n",
              "    [theme=dark] .colab-df-convert {\n",
              "      background-color: #3B4455;\n",
              "      fill: #D2E3FC;\n",
              "    }\n",
              "\n",
              "    [theme=dark] .colab-df-convert:hover {\n",
              "      background-color: #434B5C;\n",
              "      box-shadow: 0px 1px 3px 1px rgba(0, 0, 0, 0.15);\n",
              "      filter: drop-shadow(0px 1px 2px rgba(0, 0, 0, 0.3));\n",
              "      fill: #FFFFFF;\n",
              "    }\n",
              "  </style>\n",
              "\n",
              "      <script>\n",
              "        const buttonEl =\n",
              "          document.querySelector('#df-41e2a321-c984-450a-9b67-d5475b663625 button.colab-df-convert');\n",
              "        buttonEl.style.display =\n",
              "          google.colab.kernel.accessAllowed ? 'block' : 'none';\n",
              "\n",
              "        async function convertToInteractive(key) {\n",
              "          const element = document.querySelector('#df-41e2a321-c984-450a-9b67-d5475b663625');\n",
              "          const dataTable =\n",
              "            await google.colab.kernel.invokeFunction('convertToInteractive',\n",
              "                                                     [key], {});\n",
              "          if (!dataTable) return;\n",
              "\n",
              "          const docLinkHtml = 'Like what you see? Visit the ' +\n",
              "            '<a target=\"_blank\" href=https://colab.research.google.com/notebooks/data_table.ipynb>data table notebook</a>'\n",
              "            + ' to learn more about interactive tables.';\n",
              "          element.innerHTML = '';\n",
              "          dataTable['output_type'] = 'display_data';\n",
              "          await google.colab.output.renderOutput(dataTable, element);\n",
              "          const docLink = document.createElement('div');\n",
              "          docLink.innerHTML = docLinkHtml;\n",
              "          element.appendChild(docLink);\n",
              "        }\n",
              "      </script>\n",
              "    </div>\n",
              "  </div>\n",
              "  "
            ]
          },
          "metadata": {},
          "execution_count": 12
        }
      ]
    },
    {
      "cell_type": "code",
      "source": [
        "df.columns"
      ],
      "metadata": {
        "colab": {
          "base_uri": "https://localhost:8080/"
        },
        "id": "spBbbStQm3kl",
        "outputId": "c1473c88-6274-4f57-e375-628ec6852542"
      },
      "execution_count": 13,
      "outputs": [
        {
          "output_type": "execute_result",
          "data": {
            "text/plain": [
              "Index(['index', 'url', 'name', 'sku', 'selling_price', 'original_price',\n",
              "       'currency', 'availability', 'color', 'category', 'source',\n",
              "       'source_website', 'breadcrumbs', 'description', 'brand', 'images',\n",
              "       'country', 'language', 'average_rating', 'reviews_count', 'crawled_at'],\n",
              "      dtype='object')"
            ]
          },
          "metadata": {},
          "execution_count": 13
        }
      ]
    },
    {
      "cell_type": "code",
      "source": [
        "df.drop(['index','url'],axis = 1,inplace=True)"
      ],
      "metadata": {
        "id": "mIQo5TxJm8F7"
      },
      "execution_count": 14,
      "outputs": []
    },
    {
      "cell_type": "code",
      "source": [
        "\n",
        "df.columns\n"
      ],
      "metadata": {
        "colab": {
          "base_uri": "https://localhost:8080/"
        },
        "id": "dAVuyyAmnLq-",
        "outputId": "8aa2f56a-11c1-41c2-b26e-59201146b161"
      },
      "execution_count": 15,
      "outputs": [
        {
          "output_type": "execute_result",
          "data": {
            "text/plain": [
              "Index(['name', 'sku', 'selling_price', 'original_price', 'currency',\n",
              "       'availability', 'color', 'category', 'source', 'source_website',\n",
              "       'breadcrumbs', 'description', 'brand', 'images', 'country', 'language',\n",
              "       'average_rating', 'reviews_count', 'crawled_at'],\n",
              "      dtype='object')"
            ]
          },
          "metadata": {},
          "execution_count": 15
        }
      ]
    },
    {
      "cell_type": "code",
      "source": [
        "sns.pairplot(df)\n"
      ],
      "metadata": {
        "colab": {
          "base_uri": "https://localhost:8080/",
          "height": 568
        },
        "id": "uMZu6VlRnQbx",
        "outputId": "fad64820-b494-4a60-9261-b0b7fa9a2282"
      },
      "execution_count": 16,
      "outputs": [
        {
          "output_type": "execute_result",
          "data": {
            "text/plain": [
              "<seaborn.axisgrid.PairGrid at 0x7fcd4a1adb10>"
            ]
          },
          "metadata": {},
          "execution_count": 16
        },
        {
          "output_type": "display_data",
          "data": {
            "text/plain": [
              "<Figure size 540x540 with 12 Axes>"
            ],
            "image/png": "[encoded data removed]"
          },
          "metadata": {}
        }
      ]
    },
    {
      "cell_type": "code",
      "source": [
        "sns.scatterplot(x = df['average_rating'], y =df['reviews_count'],hue=df['category'] )"
      ],
      "metadata": {
        "colab": {
          "base_uri": "https://localhost:8080/",
          "height": 298
        },
        "id": "COBH6cyVnUBb",
        "outputId": "fe4aced8-d3ba-4023-f1a1-90a503cd8b8b"
      },
      "execution_count": 17,
      "outputs": [
        {
          "output_type": "execute_result",
          "data": {
            "text/plain": [
              "<matplotlib.axes._subplots.AxesSubplot at 0x7fcd4a1d8350>"
            ]
          },
          "metadata": {},
          "execution_count": 17
        },
        {
          "output_type": "display_data",
          "data": {
            "text/plain": [
              "<Figure size 432x288 with 1 Axes>"
            ],
            "image/png": "[encoded data removed]"
          },
          "metadata": {}
        }
      ]
    },
    {
      "cell_type": "code",
      "source": [
        "sns.histplot(df['average_rating'],bins = 30)"
      ],
      "metadata": {
        "colab": {
          "base_uri": "https://localhost:8080/",
          "height": 298
        },
        "id": "KxZK5j8mnmCH",
        "outputId": "9b6dda3d-d293-4090-909c-832f612e7434"
      },
      "execution_count": 18,
      "outputs": [
        {
          "output_type": "execute_result",
          "data": {
            "text/plain": [
              "<matplotlib.axes._subplots.AxesSubplot at 0x7fcd47180c10>"
            ]
          },
          "metadata": {},
          "execution_count": 18
        },
        {
          "output_type": "display_data",
          "data": {
            "text/plain": [
              "<Figure size 432x288 with 1 Axes>"
            ],
            "image/png": "[encoded data removed]"
          },
          "metadata": {}
        }
      ]
    },
    {
      "cell_type": "code",
      "source": [
        "df.describe()\n"
      ],
      "metadata": {
        "colab": {
          "base_uri": "https://localhost:8080/",
          "height": 300
        },
        "id": "qjYkDBTensVl",
        "outputId": "33859a27-db4c-4efb-e728-58b8a3f34ad8"
      },
      "execution_count": 19,
      "outputs": [
        {
          "output_type": "execute_result",
          "data": {
            "text/plain": [
              "       selling_price  average_rating  reviews_count\n",
              "count     845.000000      845.000000     845.000000\n",
              "mean       53.192899        4.608402     426.178698\n",
              "std        31.411645        0.293795    1229.158277\n",
              "min         9.000000        1.000000       1.000000\n",
              "25%        28.000000        4.500000      19.000000\n",
              "50%        48.000000        4.700000      68.000000\n",
              "75%        70.000000        4.800000     314.000000\n",
              "max       240.000000        5.000000   11750.000000"
            ],
            "text/html": [
              "\n",
              "  <div id=\"df-a0c5be15-2a7b-4ee2-87f0-fe848fd5f226\">\n",
              "    <div class=\"colab-df-container\">\n",
              "      <div>\n",
              "<style scoped>\n",
              "    .dataframe tbody tr th:only-of-type {\n",
              "        vertical-align: middle;\n",
              "    }\n",
              "\n",
              "    .dataframe tbody tr th {\n",
              "        vertical-align: top;\n",
              "    }\n",
              "\n",
              "    .dataframe thead th {\n",
              "        text-align: right;\n",
              "    }\n",
              "</style>\n",
              "<table border=\"1\" class=\"dataframe\">\n",
              "  <thead>\n",
              "    <tr style=\"text-align: right;\">\n",
              "      <th></th>\n",
              "      <th>selling_price</th>\n",
              "      <th>average_rating</th>\n",
              "      <th>reviews_count</th>\n",
              "    </tr>\n",
              "  </thead>\n",
              "  <tbody>\n",
              "    <tr>\n",
              "      <th>count</th>\n",
              "      <td>845.000000</td>\n",
              "      <td>845.000000</td>\n",
              "      <td>845.000000</td>\n",
              "    </tr>\n",
              "    <tr>\n",
              "      <th>mean</th>\n",
              "      <td>53.192899</td>\n",
              "      <td>4.608402</td>\n",
              "      <td>426.178698</td>\n",
              "    </tr>\n",
              "    <tr>\n",
              "      <th>std</th>\n",
              "      <td>31.411645</td>\n",
              "      <td>0.293795</td>\n",
              "      <td>1229.158277</td>\n",
              "    </tr>\n",
              "    <tr>\n",
              "      <th>min</th>\n",
              "      <td>9.000000</td>\n",
              "      <td>1.000000</td>\n",
              "      <td>1.000000</td>\n",
              "    </tr>\n",
              "    <tr>\n",
              "      <th>25%</th>\n",
              "      <td>28.000000</td>\n",
              "      <td>4.500000</td>\n",
              "      <td>19.000000</td>\n",
              "    </tr>\n",
              "    <tr>\n",
              "      <th>50%</th>\n",
              "      <td>48.000000</td>\n",
              "      <td>4.700000</td>\n",
              "      <td>68.000000</td>\n",
              "    </tr>\n",
              "    <tr>\n",
              "      <th>75%</th>\n",
              "      <td>70.000000</td>\n",
              "      <td>4.800000</td>\n",
              "      <td>314.000000</td>\n",
              "    </tr>\n",
              "    <tr>\n",
              "      <th>max</th>\n",
              "      <td>240.000000</td>\n",
              "      <td>5.000000</td>\n",
              "      <td>11750.000000</td>\n",
              "    </tr>\n",
              "  </tbody>\n",
              "</table>\n",
              "</div>\n",
              "      <button class=\"colab-df-convert\" onclick=\"convertToInteractive('df-a0c5be15-2a7b-4ee2-87f0-fe848fd5f226')\"\n",
              "              title=\"Convert this dataframe to an interactive table.\"\n",
              "              style=\"display:none;\">\n",
              "        \n",
              "  <svg xmlns=\"http://www.w3.org/2000/svg\" height=\"24px\"viewBox=\"0 0 24 24\"\n",
              "       width=\"24px\">\n",
              "    <path d=\"M0 0h24v24H0V0z\" fill=\"none\"/>\n",
              "    <path d=\"M18.56 5.44l.94 2.06.94-2.06 2.06-.94-2.06-.94-.94-2.06-.94 2.06-2.06.94zm-11 1L8.5 8.5l.94-2.06 2.06-.94-2.06-.94L8.5 2.5l-.94 2.06-2.06.94zm10 10l.94 2.06.94-2.06 2.06-.94-2.06-.94-.94-2.06-.94 2.06-2.06.94z\"/><path d=\"M17.41 7.96l-1.37-1.37c-.4-.4-.92-.59-1.43-.59-.52 0-1.04.2-1.43.59L10.3 9.45l-7.72 7.72c-.78.78-.78 2.05 0 2.83L4 21.41c.39.39.9.59 1.41.59.51 0 1.02-.2 1.41-.59l7.78-7.78 2.81-2.81c.8-.78.8-2.07 0-2.86zM5.41 20L4 18.59l7.72-7.72 1.47 1.35L5.41 20z\"/>\n",
              "  </svg>\n",
              "      </button>\n",
              "      \n",
              "  <style>\n",
              "    .colab-df-container {\n",
              "      display:flex;\n",
              "      flex-wrap:wrap;\n",
              "      gap: 12px;\n",
              "    }\n",
              "\n",
              "    .colab-df-convert {\n",
              "      background-color: #E8F0FE;\n",
              "      border: none;\n",
              "      border-radius: 50%;\n",
              "      cursor: pointer;\n",
              "      display: none;\n",
              "      fill: #1967D2;\n",
              "      height: 32px;\n",
              "      padding: 0 0 0 0;\n",
              "      width: 32px;\n",
              "    }\n",
              "\n",
              "    .colab-df-convert:hover {\n",
              "      background-color: #E2EBFA;\n",
              "      box-shadow: 0px 1px 2px rgba(60, 64, 67, 0.3), 0px 1px 3px 1px rgba(60, 64, 67, 0.15);\n",
              "      fill: #174EA6;\n",
              "    }\n",
              "\n",
              "    [theme=dark] .colab-df-convert {\n",
              "      background-color: #3B4455;\n",
              "      fill: #D2E3FC;\n",
              "    }\n",
              "\n",
              "    [theme=dark] .colab-df-convert:hover {\n",
              "      background-color: #434B5C;\n",
              "      box-shadow: 0px 1px 3px 1px rgba(0, 0, 0, 0.15);\n",
              "      filter: drop-shadow(0px 1px 2px rgba(0, 0, 0, 0.3));\n",
              "      fill: #FFFFFF;\n",
              "    }\n",
              "  </style>\n",
              "\n",
              "      <script>\n",
              "        const buttonEl =\n",
              "          document.querySelector('#df-a0c5be15-2a7b-4ee2-87f0-fe848fd5f226 button.colab-df-convert');\n",
              "        buttonEl.style.display =\n",
              "          google.colab.kernel.accessAllowed ? 'block' : 'none';\n",
              "\n",
              "        async function convertToInteractive(key) {\n",
              "          const element = document.querySelector('#df-a0c5be15-2a7b-4ee2-87f0-fe848fd5f226');\n",
              "          const dataTable =\n",
              "            await google.colab.kernel.invokeFunction('convertToInteractive',\n",
              "                                                     [key], {});\n",
              "          if (!dataTable) return;\n",
              "\n",
              "          const docLinkHtml = 'Like what you see? Visit the ' +\n",
              "            '<a target=\"_blank\" href=https://colab.research.google.com/notebooks/data_table.ipynb>data table notebook</a>'\n",
              "            + ' to learn more about interactive tables.';\n",
              "          element.innerHTML = '';\n",
              "          dataTable['output_type'] = 'display_data';\n",
              "          await google.colab.output.renderOutput(dataTable, element);\n",
              "          const docLink = document.createElement('div');\n",
              "          docLink.innerHTML = docLinkHtml;\n",
              "          element.appendChild(docLink);\n",
              "        }\n",
              "      </script>\n",
              "    </div>\n",
              "  </div>\n",
              "  "
            ]
          },
          "metadata": {},
          "execution_count": 19
        }
      ]
    },
    {
      "cell_type": "code",
      "source": [
        "sns.distplot(df['selling_price'])\n",
        "#unimodal since there is only one peak"
      ],
      "metadata": {
        "colab": {
          "base_uri": "https://localhost:8080/",
          "height": 354
        },
        "id": "Fg1Nmx9WoR6-",
        "outputId": "f4a726a4-5616-489b-a1bd-e77855c9c2ac"
      },
      "execution_count": 20,
      "outputs": [
        {
          "output_type": "stream",
          "name": "stderr",
          "text": [
            "/usr/local/lib/python3.7/dist-packages/seaborn/distributions.py:2619: FutureWarning: `distplot` is a deprecated function and will be removed in a future version. Please adapt your code to use either `displot` (a figure-level function with similar flexibility) or `histplot` (an axes-level function for histograms).\n",
            "  warnings.warn(msg, FutureWarning)\n"
          ]
        },
        {
          "output_type": "execute_result",
          "data": {
            "text/plain": [
              "<matplotlib.axes._subplots.AxesSubplot at 0x7fcd44783ad0>"
            ]
          },
          "metadata": {},
          "execution_count": 20
        },
        {
          "output_type": "display_data",
          "data": {
            "text/plain": [
              "<Figure size 432x288 with 1 Axes>"
            ],
            "image/png": "[encoded data removed]"
          },
          "metadata": {}
        }
      ]
    },
    {
      "cell_type": "code",
      "source": [
        "np.mean(df['selling_price'])"
      ],
      "metadata": {
        "colab": {
          "base_uri": "https://localhost:8080/"
        },
        "id": "24394IAkldu8",
        "outputId": "e6d95093-f2e9-4c30-d14e-7e1e7eb88e0d"
      },
      "execution_count": 21,
      "outputs": [
        {
          "output_type": "execute_result",
          "data": {
            "text/plain": [
              "53.19289940828402"
            ]
          },
          "metadata": {},
          "execution_count": 21
        }
      ]
    },
    {
      "cell_type": "code",
      "source": [
        "np.median(df['selling_price'])"
      ],
      "metadata": {
        "colab": {
          "base_uri": "https://localhost:8080/"
        },
        "id": "JjAQLBDjmBfs",
        "outputId": "451db8c4-c54c-477c-cb27-fb4e25c0ef89"
      },
      "execution_count": 22,
      "outputs": [
        {
          "output_type": "execute_result",
          "data": {
            "text/plain": [
              "48.0"
            ]
          },
          "metadata": {},
          "execution_count": 22
        }
      ]
    },
    {
      "cell_type": "code",
      "source": [
        "# since the median < mean the data is right skewed \n",
        "# the data of the selling price is right skewed."
      ],
      "metadata": {
        "id": "4kdPQUW_mF23"
      },
      "execution_count": 23,
      "outputs": []
    },
    {
      "cell_type": "code",
      "source": [
        "sns.heatmap(df.corr())"
      ],
      "metadata": {
        "colab": {
          "base_uri": "https://localhost:8080/",
          "height": 288
        },
        "id": "6R-dV9xQmecr",
        "outputId": "e9c17d38-7c06-4c66-d773-aecdb11907b6"
      },
      "execution_count": 24,
      "outputs": [
        {
          "output_type": "execute_result",
          "data": {
            "text/plain": [
              "<matplotlib.axes._subplots.AxesSubplot at 0x7fcd44301f90>"
            ]
          },
          "metadata": {},
          "execution_count": 24
        },
        {
          "output_type": "display_data",
          "data": {
            "text/plain": [
              "<Figure size 432x288 with 2 Axes>"
            ],
            "image/png": "[encoded data removed]"
          },
          "metadata": {}
        }
      ]
    },
    {
      "cell_type": "code",
      "source": [
        "# we wouldn't be able to make a linear regression model successfully with this dataframe since correlations of most of these"
      ],
      "metadata": {
        "id": "gFNOciRSmhb_"
      },
      "execution_count": 25,
      "outputs": []
    },
    {
      "cell_type": "code",
      "source": [
        "# lets hot encode some of the columns"
      ],
      "metadata": {
        "id": "Hte3SSmmnNeQ"
      },
      "execution_count": 26,
      "outputs": []
    },
    {
      "cell_type": "code",
      "source": [
        "df.columns"
      ],
      "metadata": {
        "colab": {
          "base_uri": "https://localhost:8080/"
        },
        "id": "ola-5SQInRtG",
        "outputId": "a54d549d-a24a-4c55-84b9-1d3739e2ca40"
      },
      "execution_count": 27,
      "outputs": [
        {
          "output_type": "execute_result",
          "data": {
            "text/plain": [
              "Index(['name', 'sku', 'selling_price', 'original_price', 'currency',\n",
              "       'availability', 'color', 'category', 'source', 'source_website',\n",
              "       'breadcrumbs', 'description', 'brand', 'images', 'country', 'language',\n",
              "       'average_rating', 'reviews_count', 'crawled_at'],\n",
              "      dtype='object')"
            ]
          },
          "metadata": {},
          "execution_count": 27
        }
      ]
    },
    {
      "cell_type": "code",
      "source": [
        "df['availability'].describe()"
      ],
      "metadata": {
        "colab": {
          "base_uri": "https://localhost:8080/"
        },
        "id": "pz-OLe6jnTLP",
        "outputId": "e7919793-4f2a-43e8-d2d4-9f0be964d0ca"
      },
      "execution_count": 28,
      "outputs": [
        {
          "output_type": "execute_result",
          "data": {
            "text/plain": [
              "count         845\n",
              "unique          2\n",
              "top       InStock\n",
              "freq          842\n",
              "Name: availability, dtype: object"
            ]
          },
          "metadata": {},
          "execution_count": 28
        }
      ]
    },
    {
      "cell_type": "code",
      "source": [
        "df['availability'].unique()"
      ],
      "metadata": {
        "colab": {
          "base_uri": "https://localhost:8080/"
        },
        "id": "qz1dUuhcnYlv",
        "outputId": "4aeaf390-f2ab-4fd6-964d-912f7d8b911a"
      },
      "execution_count": 31,
      "outputs": [
        {
          "output_type": "execute_result",
          "data": {
            "text/plain": [
              "array(['InStock', 'OutOfStock'], dtype=object)"
            ]
          },
          "metadata": {},
          "execution_count": 31
        }
      ]
    },
    {
      "cell_type": "code",
      "source": [
        "df['availability_encoded'] = df['availability'].apply(lambda x: 1 if x == 'InStock'else 0)"
      ],
      "metadata": {
        "id": "60jEoBYBnesy"
      },
      "execution_count": 38,
      "outputs": []
    },
    {
      "cell_type": "code",
      "source": [
        "sns.heatmap(df.corr())"
      ],
      "metadata": {
        "colab": {
          "base_uri": "https://localhost:8080/",
          "height": 380
        },
        "id": "fM_n29WhnwPJ",
        "outputId": "59a7baf6-fd79-4ab7-f22d-dd28ea4ec43b"
      },
      "execution_count": 41,
      "outputs": [
        {
          "output_type": "execute_result",
          "data": {
            "text/plain": [
              "<matplotlib.axes._subplots.AxesSubplot at 0x7fcd43f93c50>"
            ]
          },
          "metadata": {},
          "execution_count": 41
        },
        {
          "output_type": "display_data",
          "data": {
            "text/plain": [
              "<Figure size 432x288 with 2 Axes>"
            ],
            "image/png": "[encoded data removed]"
          },
          "metadata": {}
        }
      ]
    },
    {
      "cell_type": "code",
      "source": [
        "sns.countplot(x = df['availability'])"
      ],
      "metadata": {
        "colab": {
          "base_uri": "https://localhost:8080/",
          "height": 297
        },
        "id": "ALATdyNcoodc",
        "outputId": "d143c74d-b60c-4f6a-e6f8-645355a9c66a"
      },
      "execution_count": 42,
      "outputs": [
        {
          "output_type": "execute_result",
          "data": {
            "text/plain": [
              "<matplotlib.axes._subplots.AxesSubplot at 0x7fcd473d6190>"
            ]
          },
          "metadata": {},
          "execution_count": 42
        },
        {
          "output_type": "display_data",
          "data": {
            "text/plain": [
              "<Figure size 432x288 with 1 Axes>"
            ],
            "image/png": "[encoded data removed]"
          },
          "metadata": {}
        }
      ]
    },
    {
      "cell_type": "code",
      "source": [
        "#everything is avalible so this data is very baised."
      ],
      "metadata": {
        "id": "dQLU5vNcp_yj"
      },
      "execution_count": 43,
      "outputs": []
    },
    {
      "cell_type": "code",
      "source": [],
      "metadata": {
        "id": "_JPxDdStqHkz"
      },
      "execution_count": 48,
      "outputs": []
    },
    {
      "cell_type": "code",
      "source": [],
      "metadata": {
        "id": "5Pxki1DqrCAE"
      },
      "execution_count": null,
      "outputs": []
    }
  ]
}